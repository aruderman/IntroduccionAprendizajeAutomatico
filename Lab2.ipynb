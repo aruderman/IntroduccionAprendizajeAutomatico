{
 "cells": [
  {
   "cell_type": "markdown",
   "metadata": {},
   "source": [
    "# Laboratorio 2: Armado de un esquema de aprendizaje automático\n",
    "\n",
    "En el laboratorio final se espera que puedan poner en práctica los conocimientos adquiridos en el curso, trabajando con un conjunto de datos de clasificación.\n",
    "\n",
    "El objetivo es que se introduzcan en el desarrollo de un esquema para hacer tareas de aprendizaje automático: selección de un modelo, ajuste de hiperparámetros y evaluación.\n",
    "\n",
    "El conjunto de datos a utilizar está en `./data/loan_data.csv`. Si abren el archivo verán que al principio (las líneas que empiezan con `#`) describen el conjunto de datos y sus atributos (incluyendo el atributo de etiqueta o clase).\n",
    "\n",
    "Se espera que hagan uso de las herramientas vistas en el curso. Se espera que hagan uso especialmente de las herramientas brindadas por `scikit-learn`."
   ]
  },
  {
   "cell_type": "code",
   "execution_count": 1,
   "metadata": {},
   "outputs": [],
   "source": [
    "import numpy as np\n",
    "import pandas as pd\n",
    "\n",
    "# TODO: Agregar las librerías que hagan falta\n",
    "from sklearn.model_selection import train_test_split"
   ]
  },
  {
   "cell_type": "markdown",
   "metadata": {},
   "source": [
    "## Carga de datos y división en entrenamiento y evaluación\n",
    "\n",
    "La celda siguiente se encarga de la carga de datos (haciendo uso de pandas). Estos serán los que se trabajarán en el resto del laboratorio."
   ]
  },
  {
   "cell_type": "code",
   "execution_count": 2,
   "metadata": {},
   "outputs": [],
   "source": [
    "dataset = pd.read_csv(\"./data/loan_data.csv\", comment=\"#\")\n",
    "\n",
    "# División entre instancias y etiquetas\n",
    "X, y = dataset.iloc[:, 1:], dataset.TARGET\n",
    "\n",
    "# división entre entrenamiento y evaluación\n",
    "X_train, X_test, y_train, y_test = train_test_split(X, y, test_size=0.2, random_state=0)"
   ]
  },
  {
   "cell_type": "code",
   "execution_count": 3,
   "metadata": {},
   "outputs": [
    {
     "data": {
      "text/html": [
       "<div>\n",
       "<style scoped>\n",
       "    .dataframe tbody tr th:only-of-type {\n",
       "        vertical-align: middle;\n",
       "    }\n",
       "\n",
       "    .dataframe tbody tr th {\n",
       "        vertical-align: top;\n",
       "    }\n",
       "\n",
       "    .dataframe thead th {\n",
       "        text-align: right;\n",
       "    }\n",
       "</style>\n",
       "<table border=\"1\" class=\"dataframe\">\n",
       "  <thead>\n",
       "    <tr style=\"text-align: right;\">\n",
       "      <th></th>\n",
       "      <th>LOAN</th>\n",
       "      <th>MORTDUE</th>\n",
       "      <th>VALUE</th>\n",
       "      <th>YOJ</th>\n",
       "      <th>DEROG</th>\n",
       "      <th>DELINQ</th>\n",
       "      <th>CLAGE</th>\n",
       "      <th>NINQ</th>\n",
       "      <th>CLNO</th>\n",
       "      <th>DEBTINC</th>\n",
       "    </tr>\n",
       "  </thead>\n",
       "  <tbody>\n",
       "    <tr>\n",
       "      <th>0</th>\n",
       "      <td>4700</td>\n",
       "      <td>88026.0</td>\n",
       "      <td>115506.0</td>\n",
       "      <td>6.0</td>\n",
       "      <td>0.0</td>\n",
       "      <td>0.0</td>\n",
       "      <td>182.248332</td>\n",
       "      <td>0.0</td>\n",
       "      <td>27.0</td>\n",
       "      <td>29.209023</td>\n",
       "    </tr>\n",
       "    <tr>\n",
       "      <th>1</th>\n",
       "      <td>19300</td>\n",
       "      <td>39926.0</td>\n",
       "      <td>101208.0</td>\n",
       "      <td>4.0</td>\n",
       "      <td>0.0</td>\n",
       "      <td>0.0</td>\n",
       "      <td>140.051638</td>\n",
       "      <td>0.0</td>\n",
       "      <td>14.0</td>\n",
       "      <td>31.545694</td>\n",
       "    </tr>\n",
       "    <tr>\n",
       "      <th>2</th>\n",
       "      <td>5700</td>\n",
       "      <td>71556.0</td>\n",
       "      <td>79538.0</td>\n",
       "      <td>2.0</td>\n",
       "      <td>0.0</td>\n",
       "      <td>0.0</td>\n",
       "      <td>92.643085</td>\n",
       "      <td>0.0</td>\n",
       "      <td>15.0</td>\n",
       "      <td>41.210012</td>\n",
       "    </tr>\n",
       "    <tr>\n",
       "      <th>3</th>\n",
       "      <td>13000</td>\n",
       "      <td>44875.0</td>\n",
       "      <td>57713.0</td>\n",
       "      <td>0.0</td>\n",
       "      <td>1.0</td>\n",
       "      <td>0.0</td>\n",
       "      <td>184.990324</td>\n",
       "      <td>1.0</td>\n",
       "      <td>12.0</td>\n",
       "      <td>28.602076</td>\n",
       "    </tr>\n",
       "    <tr>\n",
       "      <th>4</th>\n",
       "      <td>19300</td>\n",
       "      <td>72752.0</td>\n",
       "      <td>106084.0</td>\n",
       "      <td>11.0</td>\n",
       "      <td>0.0</td>\n",
       "      <td>0.0</td>\n",
       "      <td>193.707100</td>\n",
       "      <td>1.0</td>\n",
       "      <td>13.0</td>\n",
       "      <td>30.686106</td>\n",
       "    </tr>\n",
       "  </tbody>\n",
       "</table>\n",
       "</div>"
      ],
      "text/plain": [
       "    LOAN  MORTDUE     VALUE   YOJ  DEROG  DELINQ       CLAGE  NINQ  CLNO  \\\n",
       "0   4700  88026.0  115506.0   6.0    0.0     0.0  182.248332   0.0  27.0   \n",
       "1  19300  39926.0  101208.0   4.0    0.0     0.0  140.051638   0.0  14.0   \n",
       "2   5700  71556.0   79538.0   2.0    0.0     0.0   92.643085   0.0  15.0   \n",
       "3  13000  44875.0   57713.0   0.0    1.0     0.0  184.990324   1.0  12.0   \n",
       "4  19300  72752.0  106084.0  11.0    0.0     0.0  193.707100   1.0  13.0   \n",
       "\n",
       "     DEBTINC  \n",
       "0  29.209023  \n",
       "1  31.545694  \n",
       "2  41.210012  \n",
       "3  28.602076  \n",
       "4  30.686106  "
      ]
     },
     "execution_count": 3,
     "metadata": {},
     "output_type": "execute_result"
    }
   ],
   "source": [
    "X.head()"
   ]
  },
  {
   "cell_type": "markdown",
   "metadata": {},
   "source": [
    "\n",
    "Documentación:\n",
    "\n",
    "- https://scikit-learn.org/stable/modules/generated/sklearn.model_selection.train_test_split.html"
   ]
  },
  {
   "cell_type": "markdown",
   "metadata": {},
   "source": [
    "## Ejercicio 1: Descripción de los Datos y la Tarea\n",
    "\n",
    "Responder las siguientes preguntas:\n",
    "\n",
    "1. ¿De qué se trata el conjunto de datos?\n",
    "2. ¿Cuál es la variable objetivo que hay que predecir? ¿Qué significado tiene?\n",
    "3. ¿Qué información (atributos) hay disponible para hacer la predicción?\n",
    "4. ¿Qué atributos imagina ud. que son los más determinantes para la predicción?\n",
    "\n",
    "**No hace falta escribir código para responder estas preguntas.**"
   ]
  },
  {
   "cell_type": "markdown",
   "metadata": {},
   "source": [
    "1. El conjunto de datos Home Equity (HMEQ) contiene la línea de base y la información de rendimiento del préstamo  para 5,960 préstamos con garantía hipotecaria.\n",
    "2. TARGET (MALO) es una variable binaria que indica si un solicitante finalmente incumplió o delinquió gravemente.\n",
    "3. LOAN Monto de la solicitud de préstamo MORTDUE Monto adeudado por hipoteca existente VALOR Valor de la propiedad actual YOJ Años en el trabajo actual DEROG Número de informes despectivos importantes DELINQ Número de líneas de crédito morosas CLAGE Edad de la línea comercial más antigua en meses NINQ Número de líneas de crédito recientes CLNO Número de líneas de crédito DEBTINC Relación deuda / ingresos\n",
    "4. A simple vista las var"
   ]
  },
  {
   "cell_type": "markdown",
   "metadata": {},
   "source": [
    "## Ejercicio 2: Predicción con Modelos Lineales\n",
    "\n",
    "En este ejercicio se entrenarán modelos lineales de clasificación para predecir la variable objetivo.\n",
    "\n",
    "Para ello, deberán utilizar la clase SGDClassifier de scikit-learn.\n",
    "\n",
    "Documentación:\n",
    "- https://scikit-learn.org/stable/modules/sgd.html\n",
    "- https://scikit-learn.org/stable/modules/generated/sklearn.linear_model.SGDClassifier.html\n"
   ]
  },
  {
   "cell_type": "markdown",
   "metadata": {},
   "source": [
    "### Ejercicio 2.1: SGDClassifier con hiperparámetros por defecto\n",
    "\n",
    "Entrenar y evaluar el clasificador SGDClassifier usando los valores por omisión de scikit-learn para todos los parámetros. Únicamente **fijar la semilla aleatoria** para hacer repetible el experimento.\n",
    "\n",
    "Evaluar sobre el conjunto de **entrenamiento** y sobre el conjunto de **evaluación**, reportando:\n",
    "- Accuracy\n",
    "- Precision\n",
    "- Recall\n",
    "- F1\n",
    "- matriz de confusión"
   ]
  },
  {
   "cell_type": "code",
   "execution_count": 4,
   "metadata": {},
   "outputs": [],
   "source": [
    "from sklearn.linear_model import SGDClassifier\n",
    "from sklearn.pipeline import make_pipeline\n",
    "from sklearn.preprocessing import StandardScaler\n",
    "from sklearn import preprocessing\n",
    "\n",
    "from sklearn.metrics import classification_report\n",
    "from sklearn.metrics import confusion_matrix"
   ]
  },
  {
   "cell_type": "code",
   "execution_count": 5,
   "metadata": {},
   "outputs": [
    {
     "data": {
      "text/html": [
       "<div>\n",
       "<style scoped>\n",
       "    .dataframe tbody tr th:only-of-type {\n",
       "        vertical-align: middle;\n",
       "    }\n",
       "\n",
       "    .dataframe tbody tr th {\n",
       "        vertical-align: top;\n",
       "    }\n",
       "\n",
       "    .dataframe thead th {\n",
       "        text-align: right;\n",
       "    }\n",
       "</style>\n",
       "<table border=\"1\" class=\"dataframe\">\n",
       "  <thead>\n",
       "    <tr style=\"text-align: right;\">\n",
       "      <th></th>\n",
       "      <th>count</th>\n",
       "      <th>mean</th>\n",
       "      <th>std</th>\n",
       "      <th>min</th>\n",
       "      <th>25%</th>\n",
       "      <th>50%</th>\n",
       "      <th>75%</th>\n",
       "      <th>max</th>\n",
       "    </tr>\n",
       "  </thead>\n",
       "  <tbody>\n",
       "    <tr>\n",
       "      <th>LOAN</th>\n",
       "      <td>1483.0</td>\n",
       "      <td>19019.487525</td>\n",
       "      <td>10755.943240</td>\n",
       "      <td>1700.000000</td>\n",
       "      <td>12050.000000</td>\n",
       "      <td>17000.000000</td>\n",
       "      <td>23700.000000</td>\n",
       "      <td>89800.000000</td>\n",
       "    </tr>\n",
       "    <tr>\n",
       "      <th>MORTDUE</th>\n",
       "      <td>1483.0</td>\n",
       "      <td>76396.345920</td>\n",
       "      <td>45995.563918</td>\n",
       "      <td>5627.000000</td>\n",
       "      <td>48717.500000</td>\n",
       "      <td>67389.000000</td>\n",
       "      <td>94648.500000</td>\n",
       "      <td>399412.000000</td>\n",
       "    </tr>\n",
       "    <tr>\n",
       "      <th>VALUE</th>\n",
       "      <td>1483.0</td>\n",
       "      <td>107329.562374</td>\n",
       "      <td>55261.111710</td>\n",
       "      <td>21144.000000</td>\n",
       "      <td>71156.000000</td>\n",
       "      <td>94504.000000</td>\n",
       "      <td>124155.500000</td>\n",
       "      <td>512650.000000</td>\n",
       "    </tr>\n",
       "    <tr>\n",
       "      <th>YOJ</th>\n",
       "      <td>1483.0</td>\n",
       "      <td>8.948753</td>\n",
       "      <td>7.577317</td>\n",
       "      <td>0.000000</td>\n",
       "      <td>3.000000</td>\n",
       "      <td>7.000000</td>\n",
       "      <td>13.000000</td>\n",
       "      <td>41.000000</td>\n",
       "    </tr>\n",
       "    <tr>\n",
       "      <th>DEROG</th>\n",
       "      <td>1483.0</td>\n",
       "      <td>0.186109</td>\n",
       "      <td>0.696353</td>\n",
       "      <td>0.000000</td>\n",
       "      <td>0.000000</td>\n",
       "      <td>0.000000</td>\n",
       "      <td>0.000000</td>\n",
       "      <td>10.000000</td>\n",
       "    </tr>\n",
       "    <tr>\n",
       "      <th>DELINQ</th>\n",
       "      <td>1483.0</td>\n",
       "      <td>0.326365</td>\n",
       "      <td>0.925001</td>\n",
       "      <td>0.000000</td>\n",
       "      <td>0.000000</td>\n",
       "      <td>0.000000</td>\n",
       "      <td>0.000000</td>\n",
       "      <td>10.000000</td>\n",
       "    </tr>\n",
       "    <tr>\n",
       "      <th>CLAGE</th>\n",
       "      <td>1483.0</td>\n",
       "      <td>179.558267</td>\n",
       "      <td>85.433422</td>\n",
       "      <td>0.486711</td>\n",
       "      <td>116.439339</td>\n",
       "      <td>174.506408</td>\n",
       "      <td>233.763633</td>\n",
       "      <td>1168.233561</td>\n",
       "    </tr>\n",
       "    <tr>\n",
       "      <th>NINQ</th>\n",
       "      <td>1483.0</td>\n",
       "      <td>1.140931</td>\n",
       "      <td>1.683761</td>\n",
       "      <td>0.000000</td>\n",
       "      <td>0.000000</td>\n",
       "      <td>1.000000</td>\n",
       "      <td>2.000000</td>\n",
       "      <td>11.000000</td>\n",
       "    </tr>\n",
       "    <tr>\n",
       "      <th>CLNO</th>\n",
       "      <td>1483.0</td>\n",
       "      <td>21.859069</td>\n",
       "      <td>9.452400</td>\n",
       "      <td>0.000000</td>\n",
       "      <td>16.000000</td>\n",
       "      <td>21.000000</td>\n",
       "      <td>27.000000</td>\n",
       "      <td>65.000000</td>\n",
       "    </tr>\n",
       "    <tr>\n",
       "      <th>DEBTINC</th>\n",
       "      <td>1483.0</td>\n",
       "      <td>34.538331</td>\n",
       "      <td>9.566838</td>\n",
       "      <td>0.838118</td>\n",
       "      <td>29.293916</td>\n",
       "      <td>35.302774</td>\n",
       "      <td>39.200625</td>\n",
       "      <td>144.189001</td>\n",
       "    </tr>\n",
       "  </tbody>\n",
       "</table>\n",
       "</div>"
      ],
      "text/plain": [
       "          count           mean           std           min           25%  \\\n",
       "LOAN     1483.0   19019.487525  10755.943240   1700.000000  12050.000000   \n",
       "MORTDUE  1483.0   76396.345920  45995.563918   5627.000000  48717.500000   \n",
       "VALUE    1483.0  107329.562374  55261.111710  21144.000000  71156.000000   \n",
       "YOJ      1483.0       8.948753      7.577317      0.000000      3.000000   \n",
       "DEROG    1483.0       0.186109      0.696353      0.000000      0.000000   \n",
       "DELINQ   1483.0       0.326365      0.925001      0.000000      0.000000   \n",
       "CLAGE    1483.0     179.558267     85.433422      0.486711    116.439339   \n",
       "NINQ     1483.0       1.140931      1.683761      0.000000      0.000000   \n",
       "CLNO     1483.0      21.859069      9.452400      0.000000     16.000000   \n",
       "DEBTINC  1483.0      34.538331      9.566838      0.838118     29.293916   \n",
       "\n",
       "                  50%            75%            max  \n",
       "LOAN     17000.000000   23700.000000   89800.000000  \n",
       "MORTDUE  67389.000000   94648.500000  399412.000000  \n",
       "VALUE    94504.000000  124155.500000  512650.000000  \n",
       "YOJ          7.000000      13.000000      41.000000  \n",
       "DEROG        0.000000       0.000000      10.000000  \n",
       "DELINQ       0.000000       0.000000      10.000000  \n",
       "CLAGE      174.506408     233.763633    1168.233561  \n",
       "NINQ         1.000000       2.000000      11.000000  \n",
       "CLNO        21.000000      27.000000      65.000000  \n",
       "DEBTINC     35.302774      39.200625     144.189001  "
      ]
     },
     "execution_count": 5,
     "metadata": {},
     "output_type": "execute_result"
    }
   ],
   "source": [
    "X_train.describe().T"
   ]
  },
  {
   "cell_type": "markdown",
   "metadata": {},
   "source": [
    "Podemos ver que todas las features son positivas, por lo tanto la media de la norma l2 es la media de las features"
   ]
  },
  {
   "cell_type": "code",
   "execution_count": 6,
   "metadata": {},
   "outputs": [],
   "source": [
    "#preprocesing, normalizamos las features por la media de la norma l2\n",
    "X_train_n = pd.DataFrame()\n",
    "X_test_n = pd.DataFrame()\n",
    "features = X_train.columns\n",
    "for f in features:\n",
    "    mean_train = X_train[f].mean()\n",
    "    X_train_n[f] = X_train[f]/mean_train\n",
    "    mean_test = X_test[f].mean()\n",
    "    X_test_n[f] = X_test[f]/mean_test"
   ]
  },
  {
   "cell_type": "code",
   "execution_count": 7,
   "metadata": {},
   "outputs": [
    {
     "name": "stdout",
     "output_type": "stream",
     "text": [
      "Resultados para el conjunto de entrenamiento:\n",
      "\n",
      "              precision    recall  f1-score   support\n",
      "\n",
      "           0       0.89      0.97      0.93      1232\n",
      "           1       0.71      0.42      0.53       251\n",
      "\n",
      "    accuracy                           0.87      1483\n",
      "   macro avg       0.80      0.69      0.73      1483\n",
      "weighted avg       0.86      0.87      0.86      1483\n",
      "\n",
      "Matriz de confusión:\n"
     ]
    },
    {
     "data": {
      "text/plain": [
       "array([[1190,   42],\n",
       "       [ 146,  105]])"
      ]
     },
     "execution_count": 7,
     "metadata": {},
     "output_type": "execute_result"
    }
   ],
   "source": [
    "#Incorporamos la standarización de las features\n",
    "model = make_pipeline(StandardScaler(), SGDClassifier(random_state = 0)) \n",
    "#model = SGDClassifier(random_state = 0)\n",
    "\n",
    "model.fit(X_train_n, y_train)\n",
    "\n",
    "y_train_pred = model.predict(X_train_n)\n",
    "\n",
    "print('Resultados para el conjunto de entrenamiento:\\n')\n",
    "print(classification_report(y_train, y_train_pred))\n",
    "print('Matriz de confusión:')\n",
    "confusion_matrix(y_train, y_train_pred)"
   ]
  },
  {
   "cell_type": "code",
   "execution_count": 8,
   "metadata": {},
   "outputs": [
    {
     "name": "stdout",
     "output_type": "stream",
     "text": [
      "Resultados para el conjunto de test:\n",
      "\n",
      "              precision    recall  f1-score   support\n",
      "\n",
      "           0       0.89      0.96      0.92       313\n",
      "           1       0.62      0.34      0.44        58\n",
      "\n",
      "    accuracy                           0.87       371\n",
      "   macro avg       0.76      0.65      0.68       371\n",
      "weighted avg       0.85      0.87      0.85       371\n",
      "\n",
      "Matriz de confusión:\n"
     ]
    },
    {
     "data": {
      "text/plain": [
       "array([[301,  12],\n",
       "       [ 38,  20]])"
      ]
     },
     "execution_count": 8,
     "metadata": {},
     "output_type": "execute_result"
    }
   ],
   "source": [
    "y_test_pred = model.predict(X_test_n)\n",
    "print('Resultados para el conjunto de test:\\n')\n",
    "print(classification_report(y_test, y_test_pred))\n",
    "print('Matriz de confusión:')\n",
    "confusion_matrix(y_test, y_test_pred)"
   ]
  },
  {
   "cell_type": "markdown",
   "metadata": {},
   "source": [
    "Podemos ver que sin ajustar los hiperparámetros del SGDClassifier tiene un desempeño bajo en la variable objetivo 1 tanto en el set de entranamiento como en el de test, este desempeño no se modifica si tomo los valores de las features sin normalizar pero recall decae considerablemete para TARGET 1 si no estandarizo las features"
   ]
  },
  {
   "cell_type": "markdown",
   "metadata": {},
   "source": [
    "### Ejercicio 2.2: Ajuste de Hiperparámetros\n",
    "\n",
    "Seleccionar valores para los hiperparámetros principales del SGDClassifier. Como mínimo, probar diferentes funciones de loss, tasas de entrenamiento y tasas de regularización.\n",
    "\n",
    "Para ello, usar grid-search y 5-fold cross-validation sobre el conjunto de entrenamiento para explorar muchas combinaciones posibles de valores.\n",
    "\n",
    "Reportar accuracy promedio y varianza para todas las configuraciones.\n",
    "\n",
    "Para la mejor configuración encontrada, evaluar sobre el conjunto de **entrenamiento** y sobre el conjunto de **evaluación**, reportando:\n",
    "- Accuracy\n",
    "- Precision\n",
    "- Recall\n",
    "- F1\n",
    "- matriz de confusión\n",
    "\n",
    "Documentación:\n",
    "- https://scikit-learn.org/stable/modules/grid_search.html\n",
    "- https://scikit-learn.org/stable/modules/generated/sklearn.model_selection.GridSearchCV.html"
   ]
  },
  {
   "cell_type": "code",
   "execution_count": 9,
   "metadata": {},
   "outputs": [],
   "source": [
    "from sklearn.model_selection import GridSearchCV\n",
    "from sklearn.model_selection import ParameterSampler\n",
    "import numpy as np"
   ]
  },
  {
   "cell_type": "code",
   "execution_count": 10,
   "metadata": {},
   "outputs": [],
   "source": [
    "param_grid = {\n",
    "    'loss': [\n",
    "        'hinge',        # SVM\n",
    "        'log',          # logistic regression\n",
    "        #'preceptron',  # perceptron (not supported)\n",
    "        'modified_huber',\n",
    "        'squared_hinge',\n",
    "        'squared_loss',\n",
    "        'huber'\n",
    "    ],\n",
    "    'alpha': 10.0**-np.arange(1,7),\n",
    "    'learning_rate': [\n",
    "        'constant',\n",
    "        'optimal',\n",
    "        'invscaling',\n",
    "        'adaptive'\n",
    "    ],\n",
    "    'eta0': [\n",
    "        1e-2,\n",
    "        1e-1,\n",
    "        1,\n",
    "        1e1,\n",
    "        1e2,\n",
    "        1e3,\n",
    "        1e4\n",
    "    ]\n",
    "}"
   ]
  },
  {
   "cell_type": "code",
   "execution_count": 11,
   "metadata": {},
   "outputs": [],
   "source": [
    "import warnings\n",
    "warnings.filterwarnings('ignore')"
   ]
  },
  {
   "cell_type": "code",
   "execution_count": 12,
   "metadata": {},
   "outputs": [],
   "source": [
    "model = SGDClassifier(random_state = 0, max_iter = 2000)\n",
    "\n",
    "cv = GridSearchCV(model, param_grid, scoring='accuracy', cv=5)\n",
    "\n",
    "#cv = make_pipeline(StandardScaler(), GridSearchCV(model, param_grid, scoring='accuracy', cv=5))\n",
    "\n",
    "cv.fit(X_train_n, y_train);    "
   ]
  },
  {
   "cell_type": "code",
   "execution_count": 13,
   "metadata": {},
   "outputs": [
    {
     "data": {
      "text/html": [
       "<div>\n",
       "<style scoped>\n",
       "    .dataframe tbody tr th:only-of-type {\n",
       "        vertical-align: middle;\n",
       "    }\n",
       "\n",
       "    .dataframe tbody tr th {\n",
       "        vertical-align: top;\n",
       "    }\n",
       "\n",
       "    .dataframe thead th {\n",
       "        text-align: right;\n",
       "    }\n",
       "</style>\n",
       "<table border=\"1\" class=\"dataframe\">\n",
       "  <thead>\n",
       "    <tr style=\"text-align: right;\">\n",
       "      <th></th>\n",
       "      <th>param_loss</th>\n",
       "      <th>param_alpha</th>\n",
       "      <th>param_learning_rate</th>\n",
       "      <th>param_eta0</th>\n",
       "      <th>mean_test_score</th>\n",
       "      <th>std_test_score</th>\n",
       "      <th>rank_test_score</th>\n",
       "    </tr>\n",
       "  </thead>\n",
       "  <tbody>\n",
       "    <tr>\n",
       "      <th>0</th>\n",
       "      <td>hinge</td>\n",
       "      <td>0.1</td>\n",
       "      <td>constant</td>\n",
       "      <td>0.01</td>\n",
       "      <td>0.837510</td>\n",
       "      <td>0.017589</td>\n",
       "      <td>422</td>\n",
       "    </tr>\n",
       "    <tr>\n",
       "      <th>1</th>\n",
       "      <td>log</td>\n",
       "      <td>0.1</td>\n",
       "      <td>constant</td>\n",
       "      <td>0.01</td>\n",
       "      <td>0.844920</td>\n",
       "      <td>0.010510</td>\n",
       "      <td>331</td>\n",
       "    </tr>\n",
       "    <tr>\n",
       "      <th>2</th>\n",
       "      <td>modified_huber</td>\n",
       "      <td>0.1</td>\n",
       "      <td>constant</td>\n",
       "      <td>0.01</td>\n",
       "      <td>0.799741</td>\n",
       "      <td>0.027023</td>\n",
       "      <td>692</td>\n",
       "    </tr>\n",
       "    <tr>\n",
       "      <th>3</th>\n",
       "      <td>squared_hinge</td>\n",
       "      <td>0.1</td>\n",
       "      <td>constant</td>\n",
       "      <td>0.01</td>\n",
       "      <td>0.779416</td>\n",
       "      <td>0.084530</td>\n",
       "      <td>758</td>\n",
       "    </tr>\n",
       "    <tr>\n",
       "      <th>4</th>\n",
       "      <td>squared_loss</td>\n",
       "      <td>0.1</td>\n",
       "      <td>constant</td>\n",
       "      <td>0.01</td>\n",
       "      <td>0.770737</td>\n",
       "      <td>0.039116</td>\n",
       "      <td>783</td>\n",
       "    </tr>\n",
       "    <tr>\n",
       "      <th>...</th>\n",
       "      <td>...</td>\n",
       "      <td>...</td>\n",
       "      <td>...</td>\n",
       "      <td>...</td>\n",
       "      <td>...</td>\n",
       "      <td>...</td>\n",
       "      <td>...</td>\n",
       "    </tr>\n",
       "    <tr>\n",
       "      <th>1003</th>\n",
       "      <td>log</td>\n",
       "      <td>1e-06</td>\n",
       "      <td>adaptive</td>\n",
       "      <td>10000</td>\n",
       "      <td>0.877280</td>\n",
       "      <td>0.014549</td>\n",
       "      <td>8</td>\n",
       "    </tr>\n",
       "    <tr>\n",
       "      <th>1004</th>\n",
       "      <td>modified_huber</td>\n",
       "      <td>1e-06</td>\n",
       "      <td>adaptive</td>\n",
       "      <td>10000</td>\n",
       "      <td>0.859098</td>\n",
       "      <td>0.037079</td>\n",
       "      <td>116</td>\n",
       "    </tr>\n",
       "    <tr>\n",
       "      <th>1005</th>\n",
       "      <td>squared_hinge</td>\n",
       "      <td>1e-06</td>\n",
       "      <td>adaptive</td>\n",
       "      <td>10000</td>\n",
       "      <td>0.763309</td>\n",
       "      <td>0.051937</td>\n",
       "      <td>814</td>\n",
       "    </tr>\n",
       "    <tr>\n",
       "      <th>1006</th>\n",
       "      <td>squared_loss</td>\n",
       "      <td>1e-06</td>\n",
       "      <td>adaptive</td>\n",
       "      <td>10000</td>\n",
       "      <td>0.860422</td>\n",
       "      <td>0.006861</td>\n",
       "      <td>98</td>\n",
       "    </tr>\n",
       "    <tr>\n",
       "      <th>1007</th>\n",
       "      <td>huber</td>\n",
       "      <td>1e-06</td>\n",
       "      <td>adaptive</td>\n",
       "      <td>10000</td>\n",
       "      <td>0.844242</td>\n",
       "      <td>0.005174</td>\n",
       "      <td>362</td>\n",
       "    </tr>\n",
       "  </tbody>\n",
       "</table>\n",
       "<p>1008 rows × 7 columns</p>\n",
       "</div>"
      ],
      "text/plain": [
       "          param_loss param_alpha param_learning_rate param_eta0  \\\n",
       "0              hinge         0.1            constant       0.01   \n",
       "1                log         0.1            constant       0.01   \n",
       "2     modified_huber         0.1            constant       0.01   \n",
       "3      squared_hinge         0.1            constant       0.01   \n",
       "4       squared_loss         0.1            constant       0.01   \n",
       "...              ...         ...                 ...        ...   \n",
       "1003             log       1e-06            adaptive      10000   \n",
       "1004  modified_huber       1e-06            adaptive      10000   \n",
       "1005   squared_hinge       1e-06            adaptive      10000   \n",
       "1006    squared_loss       1e-06            adaptive      10000   \n",
       "1007           huber       1e-06            adaptive      10000   \n",
       "\n",
       "      mean_test_score  std_test_score  rank_test_score  \n",
       "0            0.837510        0.017589              422  \n",
       "1            0.844920        0.010510              331  \n",
       "2            0.799741        0.027023              692  \n",
       "3            0.779416        0.084530              758  \n",
       "4            0.770737        0.039116              783  \n",
       "...               ...             ...              ...  \n",
       "1003         0.877280        0.014549                8  \n",
       "1004         0.859098        0.037079              116  \n",
       "1005         0.763309        0.051937              814  \n",
       "1006         0.860422        0.006861               98  \n",
       "1007         0.844242        0.005174              362  \n",
       "\n",
       "[1008 rows x 7 columns]"
      ]
     },
     "execution_count": 13,
     "metadata": {},
     "output_type": "execute_result"
    }
   ],
   "source": [
    "#results = cv['gridsearchcv'].cv_results_\n",
    "results = cv.cv_results_\n",
    "df = pd.DataFrame(results)\n",
    "df[['param_loss', 'param_alpha','param_learning_rate','param_eta0', 'mean_test_score', 'std_test_score', 'rank_test_score']]"
   ]
  },
  {
   "cell_type": "code",
   "execution_count": 14,
   "metadata": {},
   "outputs": [
    {
     "data": {
      "text/html": [
       "<div>\n",
       "<style scoped>\n",
       "    .dataframe tbody tr th:only-of-type {\n",
       "        vertical-align: middle;\n",
       "    }\n",
       "\n",
       "    .dataframe tbody tr th {\n",
       "        vertical-align: top;\n",
       "    }\n",
       "\n",
       "    .dataframe thead th {\n",
       "        text-align: right;\n",
       "    }\n",
       "</style>\n",
       "<table border=\"1\" class=\"dataframe\">\n",
       "  <thead>\n",
       "    <tr style=\"text-align: right;\">\n",
       "      <th></th>\n",
       "      <th>param_loss</th>\n",
       "      <th>param_alpha</th>\n",
       "      <th>param_eta0</th>\n",
       "      <th>param_learning_rate</th>\n",
       "      <th>mean_test_score</th>\n",
       "      <th>std_test_score</th>\n",
       "      <th>rank_test_score</th>\n",
       "    </tr>\n",
       "  </thead>\n",
       "  <tbody>\n",
       "    <tr>\n",
       "      <th>978</th>\n",
       "      <td>hinge</td>\n",
       "      <td>1e-06</td>\n",
       "      <td>1000</td>\n",
       "      <td>adaptive</td>\n",
       "      <td>0.880651</td>\n",
       "      <td>0.018672</td>\n",
       "      <td>1</td>\n",
       "    </tr>\n",
       "  </tbody>\n",
       "</table>\n",
       "</div>"
      ],
      "text/plain": [
       "    param_loss param_alpha param_eta0 param_learning_rate  mean_test_score  \\\n",
       "978      hinge       1e-06       1000            adaptive         0.880651   \n",
       "\n",
       "     std_test_score  rank_test_score  \n",
       "978        0.018672                1  "
      ]
     },
     "execution_count": 14,
     "metadata": {},
     "output_type": "execute_result"
    }
   ],
   "source": [
    "df[df['rank_test_score']<2][['param_loss', 'param_alpha','param_eta0','param_learning_rate', \n",
    "                             'mean_test_score', 'std_test_score', 'rank_test_score']]"
   ]
  },
  {
   "cell_type": "code",
   "execution_count": 15,
   "metadata": {},
   "outputs": [
    {
     "name": "stdout",
     "output_type": "stream",
     "text": [
      "Resultados para el conjunto de entrenamiento:\n",
      "\n",
      "              precision    recall  f1-score   support\n",
      "\n",
      "           0       0.88      0.98      0.93      1232\n",
      "           1       0.82      0.36      0.50       251\n",
      "\n",
      "    accuracy                           0.88      1483\n",
      "   macro avg       0.85      0.67      0.71      1483\n",
      "weighted avg       0.87      0.88      0.86      1483\n",
      "\n",
      "Matriz de confusión:\n"
     ]
    },
    {
     "data": {
      "text/plain": [
       "array([[1212,   20],\n",
       "       [ 161,   90]])"
      ]
     },
     "execution_count": 15,
     "metadata": {},
     "output_type": "execute_result"
    }
   ],
   "source": [
    "#best_model = cv['gridsearchcv'].best_estimator_\n",
    "best_model = cv.best_estimator_\n",
    "\n",
    "y_train_pred = best_model.predict(X_train_n)\n",
    "\n",
    "print('Resultados para el conjunto de entrenamiento:\\n')\n",
    "print(classification_report(y_train, y_train_pred))\n",
    "print('Matriz de confusión:')\n",
    "confusion_matrix(y_train, y_train_pred)"
   ]
  },
  {
   "cell_type": "code",
   "execution_count": 16,
   "metadata": {},
   "outputs": [
    {
     "name": "stdout",
     "output_type": "stream",
     "text": [
      "Resultados para el conjunto de test:\n",
      "\n",
      "              precision    recall  f1-score   support\n",
      "\n",
      "           0       0.89      0.99      0.93       313\n",
      "           1       0.82      0.31      0.45        58\n",
      "\n",
      "    accuracy                           0.88       371\n",
      "   macro avg       0.85      0.65      0.69       371\n",
      "weighted avg       0.87      0.88      0.86       371\n",
      "\n",
      "Matriz de confusión:\n"
     ]
    },
    {
     "data": {
      "text/plain": [
       "array([[309,   4],\n",
       "       [ 40,  18]])"
      ]
     },
     "execution_count": 16,
     "metadata": {},
     "output_type": "execute_result"
    }
   ],
   "source": [
    "y_test_pred = best_model.predict(X_test_n)\n",
    "\n",
    "print('Resultados para el conjunto de test:\\n')\n",
    "print(classification_report(y_test, y_test_pred))\n",
    "print('Matriz de confusión:')\n",
    "confusion_matrix(y_test, y_test_pred)"
   ]
  },
  {
   "cell_type": "markdown",
   "metadata": {},
   "source": [
    "Con una búsqueda de parámetros, mediante GridSearch, pudimos mejorar el modelo para predecir TARGET 1, esto se observa sobre todo en el set de test. El valor de accuracy mejora en 0.01 con respecto entrenar el modelo SGDClassifier con los parámetros por defualt. Al implementar StandardScaler vimos una caída del accuracy de 0.08 puntos"
   ]
  },
  {
   "cell_type": "markdown",
   "metadata": {},
   "source": [
    "## Ejercicio 3: Árboles de Decisión\n",
    "\n",
    "En este ejercicio se entrenarán árboles de decisión para predecir la variable objetivo.\n",
    "\n",
    "Para ello, deberán utilizar la clase DecisionTreeClassifier de scikit-learn.\n",
    "\n",
    "Documentación:\n",
    "- https://scikit-learn.org/stable/modules/tree.html\n",
    "  - https://scikit-learn.org/stable/modules/tree.html#tips-on-practical-use\n",
    "- https://scikit-learn.org/stable/modules/generated/sklearn.tree.DecisionTreeClassifier.html\n",
    "- https://scikit-learn.org/stable/auto_examples/tree/plot_unveil_tree_structure.html"
   ]
  },
  {
   "cell_type": "markdown",
   "metadata": {},
   "source": [
    "### Ejercicio 3.1: DecisionTreeClassifier con hiperparámetros por defecto\n",
    "\n",
    "Entrenar y evaluar el clasificador DecisionTreeClassifier usando los valores por omisión de scikit-learn para todos los parámetros. Únicamente **fijar la semilla aleatoria** para hacer repetible el experimento.\n",
    "\n",
    "Evaluar sobre el conjunto de **entrenamiento** y sobre el conjunto de **evaluación**, reportando:\n",
    "- Accuracy\n",
    "- Precision\n",
    "- Recall\n",
    "- F1\n",
    "- matriz de confusión\n"
   ]
  },
  {
   "cell_type": "code",
   "execution_count": 17,
   "metadata": {},
   "outputs": [
    {
     "data": {
      "text/plain": [
       "DecisionTreeClassifier(random_state=0)"
      ]
     },
     "execution_count": 17,
     "metadata": {},
     "output_type": "execute_result"
    }
   ],
   "source": [
    "from sklearn.tree import DecisionTreeClassifier\n",
    "clf = DecisionTreeClassifier(random_state=0)\n",
    "clf.fit(X_train, y_train)"
   ]
  },
  {
   "cell_type": "code",
   "execution_count": 34,
   "metadata": {},
   "outputs": [
    {
     "name": "stdout",
     "output_type": "stream",
     "text": [
      "Resultados para el conjunto de entrenamiento:\n",
      "\n",
      "              precision    recall  f1-score   support\n",
      "\n",
      "           0       1.00      1.00      1.00      1232\n",
      "           1       1.00      1.00      1.00       251\n",
      "\n",
      "    accuracy                           1.00      1483\n",
      "   macro avg       1.00      1.00      1.00      1483\n",
      "weighted avg       1.00      1.00      1.00      1483\n",
      "\n",
      "Matriz de confusión:\n"
     ]
    },
    {
     "data": {
      "text/plain": [
       "array([[1232,    0],\n",
       "       [   0,  251]])"
      ]
     },
     "execution_count": 34,
     "metadata": {},
     "output_type": "execute_result"
    }
   ],
   "source": [
    "y_train_pred = clf.predict(X_train)\n",
    "\n",
    "print('Resultados para el conjunto de entrenamiento:\\n')\n",
    "print(classification_report(y_train, y_train_pred))\n",
    "print('Matriz de confusión:')\n",
    "confusion_matrix(y_train, y_train_pred)"
   ]
  },
  {
   "cell_type": "code",
   "execution_count": 32,
   "metadata": {},
   "outputs": [
    {
     "name": "stdout",
     "output_type": "stream",
     "text": [
      "Resultados para el conjunto de test:\n",
      "\n",
      "              precision    recall  f1-score   support\n",
      "\n",
      "           0       0.93      0.93      0.93       313\n",
      "           1       0.62      0.64      0.63        58\n",
      "\n",
      "    accuracy                           0.88       371\n",
      "   macro avg       0.77      0.78      0.78       371\n",
      "weighted avg       0.88      0.88      0.88       371\n",
      "\n",
      "Matriz de confusión:\n"
     ]
    },
    {
     "data": {
      "text/plain": [
       "array([[290,  23],\n",
       "       [ 21,  37]])"
      ]
     },
     "execution_count": 32,
     "metadata": {},
     "output_type": "execute_result"
    }
   ],
   "source": [
    "y_test_pred = clf.predict(X_test)\n",
    "\n",
    "print('Resultados para el conjunto de test:\\n')\n",
    "print(classification_report(y_test, y_test_pred))\n",
    "print('Matriz de confusión:')\n",
    "confusion_matrix(y_test, y_test_pred)"
   ]
  },
  {
   "cell_type": "markdown",
   "metadata": {},
   "source": [
    "Podemos ver que DecisionTreeClassifier ajusta con los parámetros por default de manera similar que el SGDClassifier aun después de hacer una búsqueda de parámetros para el conjunto de test y predice de manera perfecta para el conjunto de entrenamiento"
   ]
  },
  {
   "cell_type": "markdown",
   "metadata": {},
   "source": [
    "### Ejercicio 3.2: Ajuste de Hiperparámetros\n",
    "\n",
    "Seleccionar valores para los hiperparámetros principales del DecisionTreeClassifier. Como mínimo, probar diferentes criterios de partición (criterion), profundidad máxima del árbol (max_depth), y cantidad mínima de samples por hoja (min_samples_leaf).\n",
    "\n",
    "Para ello, usar grid-search y 5-fold cross-validation sobre el conjunto de entrenamiento para explorar muchas combinaciones posibles de valores.\n",
    "\n",
    "Reportar accuracy promedio y varianza para todas las configuraciones.\n",
    "\n",
    "Para la mejor configuración encontrada, evaluar sobre el conjunto de **entrenamiento** y sobre el conjunto de **evaluación**, reportando:\n",
    "- Accuracy\n",
    "- Precision\n",
    "- Recall\n",
    "- F1\n",
    "- matriz de confusión\n",
    "\n",
    "\n",
    "Documentación:\n",
    "- https://scikit-learn.org/stable/modules/grid_search.html\n",
    "- https://scikit-learn.org/stable/modules/generated/sklearn.model_selection.GridSearchCV.html"
   ]
  },
  {
   "cell_type": "code",
   "execution_count": 22,
   "metadata": {},
   "outputs": [],
   "source": [
    "param_grid2 = {\n",
    "    'criterion': ['gini', 'entropy'],\n",
    "    'splitter': ['best', 'random'],\n",
    "    'max_depth': [1, 2,3, 4, 5, 6, 7, 8, 9],\n",
    "    'min_samples_leaf': [1, 2, 3, 4, 5, 6, 7, 8]\n",
    "}"
   ]
  },
  {
   "cell_type": "code",
   "execution_count": 23,
   "metadata": {},
   "outputs": [],
   "source": [
    "model = DecisionTreeClassifier(random_state = 0)\n",
    "cv = GridSearchCV(model, param_grid2, scoring='accuracy', cv=5)\n",
    "cv.fit(X_train, y_train); "
   ]
  },
  {
   "cell_type": "code",
   "execution_count": 24,
   "metadata": {},
   "outputs": [
    {
     "data": {
      "text/html": [
       "<div>\n",
       "<style scoped>\n",
       "    .dataframe tbody tr th:only-of-type {\n",
       "        vertical-align: middle;\n",
       "    }\n",
       "\n",
       "    .dataframe tbody tr th {\n",
       "        vertical-align: top;\n",
       "    }\n",
       "\n",
       "    .dataframe thead th {\n",
       "        text-align: right;\n",
       "    }\n",
       "</style>\n",
       "<table border=\"1\" class=\"dataframe\">\n",
       "  <thead>\n",
       "    <tr style=\"text-align: right;\">\n",
       "      <th></th>\n",
       "      <th>param_criterion</th>\n",
       "      <th>param_splitter</th>\n",
       "      <th>param_max_depth</th>\n",
       "      <th>param_min_samples_leaf</th>\n",
       "      <th>mean_test_score</th>\n",
       "      <th>std_test_score</th>\n",
       "      <th>rank_test_score</th>\n",
       "    </tr>\n",
       "  </thead>\n",
       "  <tbody>\n",
       "    <tr>\n",
       "      <th>0</th>\n",
       "      <td>gini</td>\n",
       "      <td>best</td>\n",
       "      <td>1</td>\n",
       "      <td>1</td>\n",
       "      <td>0.869194</td>\n",
       "      <td>0.009254</td>\n",
       "      <td>107</td>\n",
       "    </tr>\n",
       "    <tr>\n",
       "      <th>1</th>\n",
       "      <td>gini</td>\n",
       "      <td>random</td>\n",
       "      <td>1</td>\n",
       "      <td>1</td>\n",
       "      <td>0.832089</td>\n",
       "      <td>0.012051</td>\n",
       "      <td>273</td>\n",
       "    </tr>\n",
       "    <tr>\n",
       "      <th>2</th>\n",
       "      <td>gini</td>\n",
       "      <td>best</td>\n",
       "      <td>1</td>\n",
       "      <td>2</td>\n",
       "      <td>0.869194</td>\n",
       "      <td>0.009254</td>\n",
       "      <td>107</td>\n",
       "    </tr>\n",
       "    <tr>\n",
       "      <th>3</th>\n",
       "      <td>gini</td>\n",
       "      <td>random</td>\n",
       "      <td>1</td>\n",
       "      <td>2</td>\n",
       "      <td>0.832089</td>\n",
       "      <td>0.012051</td>\n",
       "      <td>273</td>\n",
       "    </tr>\n",
       "    <tr>\n",
       "      <th>4</th>\n",
       "      <td>gini</td>\n",
       "      <td>best</td>\n",
       "      <td>1</td>\n",
       "      <td>3</td>\n",
       "      <td>0.869194</td>\n",
       "      <td>0.009254</td>\n",
       "      <td>107</td>\n",
       "    </tr>\n",
       "    <tr>\n",
       "      <th>...</th>\n",
       "      <td>...</td>\n",
       "      <td>...</td>\n",
       "      <td>...</td>\n",
       "      <td>...</td>\n",
       "      <td>...</td>\n",
       "      <td>...</td>\n",
       "      <td>...</td>\n",
       "    </tr>\n",
       "    <tr>\n",
       "      <th>283</th>\n",
       "      <td>entropy</td>\n",
       "      <td>random</td>\n",
       "      <td>9</td>\n",
       "      <td>6</td>\n",
       "      <td>0.853010</td>\n",
       "      <td>0.015979</td>\n",
       "      <td>231</td>\n",
       "    </tr>\n",
       "    <tr>\n",
       "      <th>284</th>\n",
       "      <td>entropy</td>\n",
       "      <td>best</td>\n",
       "      <td>9</td>\n",
       "      <td>7</td>\n",
       "      <td>0.842224</td>\n",
       "      <td>0.020619</td>\n",
       "      <td>272</td>\n",
       "    </tr>\n",
       "    <tr>\n",
       "      <th>285</th>\n",
       "      <td>entropy</td>\n",
       "      <td>random</td>\n",
       "      <td>9</td>\n",
       "      <td>7</td>\n",
       "      <td>0.858392</td>\n",
       "      <td>0.015421</td>\n",
       "      <td>212</td>\n",
       "    </tr>\n",
       "    <tr>\n",
       "      <th>286</th>\n",
       "      <td>entropy</td>\n",
       "      <td>best</td>\n",
       "      <td>9</td>\n",
       "      <td>8</td>\n",
       "      <td>0.847604</td>\n",
       "      <td>0.016294</td>\n",
       "      <td>266</td>\n",
       "    </tr>\n",
       "    <tr>\n",
       "      <th>287</th>\n",
       "      <td>entropy</td>\n",
       "      <td>random</td>\n",
       "      <td>9</td>\n",
       "      <td>8</td>\n",
       "      <td>0.862449</td>\n",
       "      <td>0.007667</td>\n",
       "      <td>188</td>\n",
       "    </tr>\n",
       "  </tbody>\n",
       "</table>\n",
       "<p>288 rows × 7 columns</p>\n",
       "</div>"
      ],
      "text/plain": [
       "    param_criterion param_splitter param_max_depth param_min_samples_leaf  \\\n",
       "0              gini           best               1                      1   \n",
       "1              gini         random               1                      1   \n",
       "2              gini           best               1                      2   \n",
       "3              gini         random               1                      2   \n",
       "4              gini           best               1                      3   \n",
       "..              ...            ...             ...                    ...   \n",
       "283         entropy         random               9                      6   \n",
       "284         entropy           best               9                      7   \n",
       "285         entropy         random               9                      7   \n",
       "286         entropy           best               9                      8   \n",
       "287         entropy         random               9                      8   \n",
       "\n",
       "     mean_test_score  std_test_score  rank_test_score  \n",
       "0           0.869194        0.009254              107  \n",
       "1           0.832089        0.012051              273  \n",
       "2           0.869194        0.009254              107  \n",
       "3           0.832089        0.012051              273  \n",
       "4           0.869194        0.009254              107  \n",
       "..               ...             ...              ...  \n",
       "283         0.853010        0.015979              231  \n",
       "284         0.842224        0.020619              272  \n",
       "285         0.858392        0.015421              212  \n",
       "286         0.847604        0.016294              266  \n",
       "287         0.862449        0.007667              188  \n",
       "\n",
       "[288 rows x 7 columns]"
      ]
     },
     "execution_count": 24,
     "metadata": {},
     "output_type": "execute_result"
    }
   ],
   "source": [
    "results = cv.cv_results_\n",
    "df = pd.DataFrame(results)\n",
    "df[['param_criterion', 'param_splitter','param_max_depth','param_min_samples_leaf', 'mean_test_score', 'std_test_score', 'rank_test_score']]"
   ]
  },
  {
   "cell_type": "code",
   "execution_count": 25,
   "metadata": {},
   "outputs": [
    {
     "data": {
      "text/html": [
       "<div>\n",
       "<style scoped>\n",
       "    .dataframe tbody tr th:only-of-type {\n",
       "        vertical-align: middle;\n",
       "    }\n",
       "\n",
       "    .dataframe tbody tr th {\n",
       "        vertical-align: top;\n",
       "    }\n",
       "\n",
       "    .dataframe thead th {\n",
       "        text-align: right;\n",
       "    }\n",
       "</style>\n",
       "<table border=\"1\" class=\"dataframe\">\n",
       "  <thead>\n",
       "    <tr style=\"text-align: right;\">\n",
       "      <th></th>\n",
       "      <th>param_criterion</th>\n",
       "      <th>param_splitter</th>\n",
       "      <th>param_max_depth</th>\n",
       "      <th>param_min_samples_leaf</th>\n",
       "      <th>mean_test_score</th>\n",
       "      <th>std_test_score</th>\n",
       "      <th>rank_test_score</th>\n",
       "    </tr>\n",
       "  </thead>\n",
       "  <tbody>\n",
       "    <tr>\n",
       "      <th>260</th>\n",
       "      <td>entropy</td>\n",
       "      <td>best</td>\n",
       "      <td>8</td>\n",
       "      <td>3</td>\n",
       "      <td>0.881991</td>\n",
       "      <td>0.011551</td>\n",
       "      <td>1</td>\n",
       "    </tr>\n",
       "  </tbody>\n",
       "</table>\n",
       "</div>"
      ],
      "text/plain": [
       "    param_criterion param_splitter param_max_depth param_min_samples_leaf  \\\n",
       "260         entropy           best               8                      3   \n",
       "\n",
       "     mean_test_score  std_test_score  rank_test_score  \n",
       "260         0.881991        0.011551                1  "
      ]
     },
     "execution_count": 25,
     "metadata": {},
     "output_type": "execute_result"
    }
   ],
   "source": [
    "df[df['rank_test_score']<2][['param_criterion', 'param_splitter','param_max_depth','param_min_samples_leaf', \n",
    "                             'mean_test_score', 'std_test_score', 'rank_test_score']]"
   ]
  },
  {
   "cell_type": "code",
   "execution_count": 31,
   "metadata": {},
   "outputs": [
    {
     "name": "stdout",
     "output_type": "stream",
     "text": [
      "Resultados para el conjunto de entrenamiento:\n",
      "\n",
      "              precision    recall  f1-score   support\n",
      "\n",
      "           0       0.93      0.99      0.96      1232\n",
      "           1       0.91      0.66      0.76       251\n",
      "\n",
      "    accuracy                           0.93      1483\n",
      "   macro avg       0.92      0.82      0.86      1483\n",
      "weighted avg       0.93      0.93      0.93      1483\n",
      "\n",
      "Matriz de confusión:\n"
     ]
    },
    {
     "data": {
      "text/plain": [
       "array([[1215,   17],\n",
       "       [  86,  165]])"
      ]
     },
     "execution_count": 31,
     "metadata": {},
     "output_type": "execute_result"
    }
   ],
   "source": [
    "best_model = cv.best_estimator_\n",
    "\n",
    "y_train_pred = best_model.predict(X_train)\n",
    "\n",
    "print('Resultados para el conjunto de entrenamiento:\\n')\n",
    "print(classification_report(y_train, y_train_pred))\n",
    "print('Matriz de confusión:')\n",
    "confusion_matrix(y_train, y_train_pred)"
   ]
  },
  {
   "cell_type": "code",
   "execution_count": 33,
   "metadata": {},
   "outputs": [
    {
     "name": "stdout",
     "output_type": "stream",
     "text": [
      "Resultados para el conjunto de test:\n",
      "\n",
      "              precision    recall  f1-score   support\n",
      "\n",
      "           0       0.92      0.95      0.93       313\n",
      "           1       0.66      0.57      0.61        58\n",
      "\n",
      "    accuracy                           0.89       371\n",
      "   macro avg       0.79      0.76      0.77       371\n",
      "weighted avg       0.88      0.89      0.88       371\n",
      "\n",
      "Matriz de confusión:\n"
     ]
    },
    {
     "data": {
      "text/plain": [
       "array([[296,  17],\n",
       "       [ 25,  33]])"
      ]
     },
     "execution_count": 33,
     "metadata": {},
     "output_type": "execute_result"
    }
   ],
   "source": [
    "y_test_pred = best_model.predict(X_test)\n",
    "print('Resultados para el conjunto de test:\\n')\n",
    "print(classification_report(y_test, y_test_pred))\n",
    "print('Matriz de confusión:')\n",
    "confusion_matrix(y_test, y_test_pred)"
   ]
  },
  {
   "cell_type": "markdown",
   "metadata": {},
   "source": [
    "Cuando utilizamos el GridSearch para el árbol de decisión podemos ver que los valores de accuracy del modelo decaen para el conjunto de entrenamiento en 0.07 y aumentan para el conjunto de test en 0.01 ya que mejoran para TARGET 0 levemente y decaen para TARGET 1 también levemente"
   ]
  },
  {
   "cell_type": "markdown",
   "metadata": {},
   "source": [
    "### Ejercicio 3.3: Inspección del Modelo"
   ]
  },
  {
   "cell_type": "markdown",
   "metadata": {},
   "source": [
    "De los dos modelos implementados (SGDClassifier y DecisionTreeClassifier) podemos ver que el que mejor ajusta el set de datos es el DecisionTreeClassifier cuando utilizamos los valores por default"
   ]
  }
 ],
 "metadata": {
  "kernelspec": {
   "display_name": "Python 3",
   "language": "python",
   "name": "python3"
  },
  "language_info": {
   "codemirror_mode": {
    "name": "ipython",
    "version": 3
   },
   "file_extension": ".py",
   "mimetype": "text/x-python",
   "name": "python",
   "nbconvert_exporter": "python",
   "pygments_lexer": "ipython3",
   "version": "3.8.2"
  }
 },
 "nbformat": 4,
 "nbformat_minor": 4
}
